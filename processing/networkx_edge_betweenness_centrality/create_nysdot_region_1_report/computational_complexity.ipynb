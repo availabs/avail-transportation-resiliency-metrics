{
 "cells": [
  {
   "cell_type": "code",
   "execution_count": 27,
   "metadata": {},
   "outputs": [],
   "source": [
    "import os\n",
    "import glob\n",
    "import pickle\n",
    "import math\n",
    "import re\n",
    "\n",
    "import networkx as nx"
   ]
  },
  {
   "cell_type": "code",
   "execution_count": 35,
   "metadata": {},
   "outputs": [
    {
     "name": "stdout",
     "output_type": "stream",
     "text": [
      "tracts: 323\n"
     ]
    }
   ],
   "source": [
    "tract_level_osmnx_pkl_files = glob.glob('../census_tracts/**/osmnx.pkl', recursive=True)\n",
    "\n",
    "tract_level_stats = []\n",
    "\n",
    "for p in tract_level_osmnx_pkl_files:\n",
    "   with open(p, 'rb') as f:\n",
    "    dir = os.path.dirname(os.path.dirname(p))\n",
    "\n",
    "    geoid = re.search('census-tract-([0-9]{11})', dir).group(1)\n",
    "\n",
    "    g = pickle.load(f) \n",
    "\n",
    "    n = len(g.nodes())\n",
    "    m = len(g.edges())\n",
    "\n",
    "    algo_time = round(n*m + (n*n * math.log(n)))\n",
    "\n",
    "    gpkg_file_path = os.path.join(dir, 'network.gpkg')\n",
    "\n",
    "    osmnx_pkl_last_mod_time = os.path.getmtime(p)\n",
    "    gpkg_last_mod_time = os.path.getmtime(gpkg_file_path)\n",
    "\n",
    "    metric_compute_time_sec = gpkg_last_mod_time - osmnx_pkl_last_mod_time\n",
    "\n",
    "    d = { 'geoid': geoid, 'nodes': n, 'edges': m, 'algo_time': algo_time, 'compute_time': metric_compute_time_sec }\n",
    "\n",
    "    tract_level_stats.append(d)\n",
    "\n",
    "print('tracts:', len(tract_level_stats))\n"
   ]
  },
  {
   "cell_type": "code",
   "execution_count": null,
   "metadata": {},
   "outputs": [],
   "source": [
    "osmnx_pkl_files = glob.glob('../county_subdivisions//**/osmnx.pkl', recursive=True)\n",
    "\n",
    "county_subdivision_level_stats = []\n",
    "\n",
    "for p in osmnx_pkl_files[0:3]:\n",
    "   with open(p, 'rb') as f:\n",
    "    dir = os.path.dirname(os.path.dirname(p))\n",
    "\n",
    "    geoid = re.search('county-subdivision-([0-9]{10})', dir).group(1)\n",
    "    print(geoid)\n",
    "\n",
    "    # g = pickle.load(f) \n",
    "\n",
    "    # n = len(g.nodes())\n",
    "    # m = len(g.edges())\n",
    "\n",
    "    # algo_time = round(n*m + (n*n * math.log(n)))\n",
    "\n",
    "    # gpkg_file_path = os.path.join(dir, 'network.gpkg')\n",
    "\n",
    "    # osmnx_pkl_last_mod_time = os.path.getmtime(p)\n",
    "    # gpkg_last_mod_time = os.path.getmtime(gpkg_file_path)\n",
    "\n",
    "    # metric_compute_time_sec = gpkg_last_mod_time - osmnx_pkl_last_mod_time\n",
    "\n",
    "    # d = { 'geoid': geoid, 'nodes': n, 'edges': m, 'algo_time': algo_time, 'compute_time': metric_compute_time_sec }\n",
    "\n",
    "    # tract_level_stats.append(d)\n",
    "\n",
    "print('tracts:', len(tract_level_stats))\n",
    "\n"
   ]
  },
  {
   "cell_type": "code",
   "execution_count": null,
   "metadata": {},
   "outputs": [],
   "source": []
  }
 ],
 "metadata": {
  "kernelspec": {
   "display_name": "python-3.10.12",
   "language": "python",
   "name": "python3"
  },
  "language_info": {
   "codemirror_mode": {
    "name": "ipython",
    "version": 3
   },
   "file_extension": ".py",
   "mimetype": "text/x-python",
   "name": "python",
   "nbconvert_exporter": "python",
   "pygments_lexer": "ipython3",
   "version": "3.10.12"
  }
 },
 "nbformat": 4,
 "nbformat_minor": 2
}
