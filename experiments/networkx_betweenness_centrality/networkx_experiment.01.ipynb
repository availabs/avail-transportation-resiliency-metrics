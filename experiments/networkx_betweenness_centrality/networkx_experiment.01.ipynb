{
 "cells": [
  {
   "cell_type": "markdown",
   "metadata": {},
   "source": [
    "## Computing Centrality Measures"
   ]
  },
  {
   "cell_type": "code",
   "execution_count": 1,
   "metadata": {},
   "outputs": [],
   "source": [
    "import os\n",
    "import pickle\n",
    "from functools import partial\n",
    "import pprint as pp\n",
    "\n",
    "import pandas as pd\n",
    "\n",
    "import pyrosm\n",
    "import osmnx as ox\n",
    "\n",
    "import networkx as nx"
   ]
  },
  {
   "cell_type": "markdown",
   "metadata": {},
   "source": [
    "### Read in the osm.pbf file and create a NetworkX graph"
   ]
  },
  {
   "cell_type": "code",
   "execution_count": 5,
   "metadata": {},
   "outputs": [],
   "source": [
    "# From https://pyrosm.readthedocs.io/en/latest/basics.html?highlight=osmnx#export-to-networkx-osmnx\n",
    "\n",
    "# Initialize the reader\n",
    "osm = pyrosm.OSM('./data/osm/albany-county_new-york-210101.osm.pbf')\n",
    "\n",
    "# Get all walkable roads and the nodes \n",
    "nodes, edges = osm.get_network(nodes=True, network_type='driving')\n",
    "\n",
    "# Export the nodes and edges to NetworkX graph\n",
    "G = osm.to_graph(nodes, edges, graph_type=\"networkx\", retain_all=True, osmnx_compatible=True)"
   ]
  },
  {
   "cell_type": "code",
   "execution_count": 3,
   "metadata": {},
   "outputs": [],
   "source": [
    "def flatten(k, v):\n",
    "    v = v[k] if isinstance(v[k], list) else [v[k]]\n",
    "    v = [x for x in v if isinstance(x, str)]\n",
    "\n",
    "    return v[0] if v else None"
   ]
  },
  {
   "cell_type": "markdown",
   "metadata": {},
   "source": [
    "### Use OSMnx to simplify the network"
   ]
  },
  {
   "cell_type": "code",
   "execution_count": 4,
   "metadata": {},
   "outputs": [],
   "source": [
    "# Our road network graph can be represented as two GeoDataFrames\n",
    "ox_g = ox.simplify_graph(G)\n",
    "\n",
    "# WARNING: Reindexing and exporting to GPKG throws the following error:\n",
    "#            ValueError: cannot insert osmid, already exists\n",
    "#\n",
    "# The following workaround is suggested by the library's author:\n",
    "#   https://github.com/gboeing/osmnx/issues/638#issuecomment-756948363\n",
    "for node, data in ox_g.nodes(data=True):\n",
    "    if 'osmid' in data:\n",
    "        data['osmid_original'] = data.pop('osmid')\n",
    "\n",
    "# NOTE: add_edge_speeds crashes without the following work around\n",
    "for e in list(ox_g.edges(data=True)):\n",
    "    if not (isinstance(e[2]['maxspeed'], str) or e[2]['maxspeed'] == None):\n",
    "        e[2]['maxspeed'] = flatten('maxspeed', e[2])"
   ]
  },
  {
   "cell_type": "code",
   "execution_count": 5,
   "metadata": {},
   "outputs": [
    {
     "data": {
      "text/plain": [
       "<networkx.classes.multidigraph.MultiDiGraph at 0x76c7c0b8bbb0>"
      ]
     },
     "execution_count": 5,
     "metadata": {},
     "output_type": "execute_result"
    }
   ],
   "source": [
    "# https://osmnx.readthedocs.io/en/stable/user-reference.html#osmnx.routing.add_edge_speeds\n",
    "ox.add_edge_speeds(ox_g)\n",
    "\n",
    "# https://osmnx.readthedocs.io/en/stable/user-reference.html#osmnx.routing.add_edge_travel_times\n",
    "ox.add_edge_travel_times(ox_g)"
   ]
  },
  {
   "cell_type": "code",
   "execution_count": null,
   "metadata": {},
   "outputs": [],
   "source": [
    "node_centrality_file = 'node_betweenness_centrality.albany_roadways_210101.pkl'\n",
    "\n",
    "node_betweenness_centrality = None\n",
    "try:\n",
    "    with open(node_centrality_file, 'rb') as file:\n",
    "        node_betweenness_centrality = pickle.load(file)\n",
    "except FileNotFoundError:\n",
    "    print('Must compute node betweenness centrality...')\n",
    "    # Note: took 5h30m to run for Albany County\n",
    "    node_betweenness_centrality = nx.betweenness_centrality(ox_g, weight='travel_time')\n",
    "    with open(node_centrality_file, 'wb') as f:\n",
    "        pickle.dump(node_betweenness_centrality, f)"
   ]
  },
  {
   "cell_type": "code",
   "execution_count": 7,
   "metadata": {},
   "outputs": [],
   "source": [
    "edge_centrality_file = 'edge_betweenness_centrality.albany_roadways_210101.pkl'\n",
    "\n",
    "try:\n",
    "    with open(edge_centrality_file, 'rb') as file:\n",
    "        edge_betweenness_centrality = pickle.load(file)\n",
    "except FileNotFoundError:\n",
    "    print('Must compute edge betweenness centrality...')\n",
    "    # Note: took 5h30m to run for Albany County\n",
    "    edge_betweenness_centrality = nx.edge_betweenness_centrality(ox_g, weight='travel_time')\n",
    "    with open(edge_centrality_file, 'wb') as f:\n",
    "        pickle.dump(edge_betweenness_centrality, f)"
   ]
  },
  {
   "cell_type": "code",
   "execution_count": 26,
   "metadata": {},
   "outputs": [],
   "source": [
    "\n",
    "g = ox_g.copy()\n",
    "\n",
    "for node, data in list(g.nodes(data=True)):\n",
    "    data['centrality'] = node_betweenness_centrality[node]\n",
    "\n",
    "for edge in list(g.edges(data=True)):\n",
    "    edge[2]['centrality'] = edge_betweenness_centrality[(edge[0],edge[1], 0)]"
   ]
  },
  {
   "cell_type": "code",
   "execution_count": 30,
   "metadata": {},
   "outputs": [],
   "source": [
    "output_file_name = 'albany_roadways_210101.with_betweenness_centrality.gpkg'\n",
    "\n",
    "try:\n",
    "    os.remove(output_file_name)\n",
    "except OSError:\n",
    "    pass\n",
    "\n",
    "gdf_nodes, gdf_relationships = ox.graph_to_gdfs(g)\n",
    "\n",
    "gdf_nodes.to_file(output_file_name, layer='intersections', driver='GPKG')\n",
    "gdf_relationships.to_file(output_file_name, layer='roadways', driver='GPKG')"
   ]
  }
 ],
 "metadata": {
  "kernelspec": {
   "display_name": "python-3.10.12",
   "language": "python",
   "name": "python3"
  },
  "language_info": {
   "codemirror_mode": {
    "name": "ipython",
    "version": 3
   },
   "file_extension": ".py",
   "mimetype": "text/x-python",
   "name": "python",
   "nbconvert_exporter": "python",
   "pygments_lexer": "ipython3",
   "version": "3.10.12"
  }
 },
 "nbformat": 4,
 "nbformat_minor": 2
}
